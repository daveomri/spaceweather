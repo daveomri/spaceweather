{
 "cells": [
  {
   "cell_type": "code",
   "execution_count": 1,
   "metadata": {},
   "outputs": [],
   "source": [
    "# David Omrai 2022\n",
    "# ----------------\n",
    "# Project is focuesed on the prediction of spaceweather\n",
    "# ----------------"
   ]
  },
  {
   "cell_type": "markdown",
   "metadata": {},
   "source": [
    "### Data description\n",
    "- SWPC provides averaged integral electron flux (electrons/(cm^2 s sr)) with energies grater than 0.8 MeV and greater than 2 MeV. \n",
    "\n",
    "- The radiation belt electron fluxes vary dramatically over time scales raging from minutes to years.\n",
    "\n",
    "- Abrupt increases and decreases in flux can oxxur due to reconfigurations in the magnetosperic magnetic field, as well as due to various particle acceleration and loss mechanisms.\n",
    "\n",
    "- When measured at geostationary orbit, the lectron fluxes also exhibit a substantion spatial variability, independent of the temporal changes due to magnetic field reconfiguration and particle accelerations/loss.\n",
    "\n",
    "- The electron fluxes at geostationary orbit typically have their highest values near local noon and their lowest values near local midnight.\n",
    "\n",
    "- This spatial feature is due to the structure of the magnetospheric magnetic field, strong at noon and weak at midnight, causes by the pressure of the solar wind on the day side of the magnetosphere."
   ]
  },
  {
   "cell_type": "code",
   "execution_count": 11,
   "metadata": {},
   "outputs": [],
   "source": [
    "# import libraries\n",
    "import sys\n",
    "import numpy as np\n",
    "import pandas as pd\n",
    "import matplotlib.pylab as plt\n",
    "import json, urllib.request as urllibr\n",
    "\n",
    "sys.path.insert(0, 'lib/')\n",
    "from nig import NiG"
   ]
  },
  {
   "cell_type": "markdown",
   "metadata": {},
   "source": [
    "#### Fetching data\n",
    "- Data are available in official sites of Space Weather Prediction Center\n",
    "- From these sites we first have to crawl these data\n",
    "- The result will be stored in pandas structure for later work on them, changing type, cutting string and getting number values from it"
   ]
  },
  {
   "cell_type": "code",
   "execution_count": 5,
   "metadata": {},
   "outputs": [],
   "source": [
    "# urls with data in json\n",
    "url_protons = \"https://services.swpc.noaa.gov/json/goes/primary/integral-protons-1-day.json\"\n",
    "url_electrons = \"https://services.swpc.noaa.gov/json/goes/primary/integral-electrons-1-day.json\""
   ]
  },
  {
   "cell_type": "code",
   "execution_count": 14,
   "metadata": {},
   "outputs": [],
   "source": [
    "# load json files\n",
    "res_prot, res_elec = urllibr.urlopen(url_protons).read(), urllibr.urlopen(url_electrons).read()\n",
    "\n",
    "# to json\n",
    "d_prot, d_elec = json.loads(res_prot), json.loads(res_elec)\n"
   ]
  },
  {
   "cell_type": "code",
   "execution_count": 16,
   "metadata": {},
   "outputs": [],
   "source": [
    "# todo"
   ]
  }
 ],
 "metadata": {
  "interpreter": {
   "hash": "916dbcbb3f70747c44a77c7bcd40155683ae19c65e1c03b4aa3499c5328201f1"
  },
  "kernelspec": {
   "display_name": "Python 3.8.10 64-bit",
   "language": "python",
   "name": "python3"
  },
  "language_info": {
   "codemirror_mode": {
    "name": "ipython",
    "version": 3
   },
   "file_extension": ".py",
   "mimetype": "text/x-python",
   "name": "python",
   "nbconvert_exporter": "python",
   "pygments_lexer": "ipython3",
   "version": "3.8.10"
  },
  "orig_nbformat": 4
 },
 "nbformat": 4,
 "nbformat_minor": 2
}
